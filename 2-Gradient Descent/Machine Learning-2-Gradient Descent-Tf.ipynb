{
 "cells": [
  {
   "cell_type": "markdown",
   "metadata": {},
   "source": [
    "# Gradient Descent com Tensorflow\n",
    "\n",
    "Author: H3dema"
   ]
  },
  {
   "cell_type": "code",
   "execution_count": 30,
   "metadata": {},
   "outputs": [],
   "source": [
    "import tensorflow as tf\n",
    "import numpy as np\n",
    "\n",
    "%matplotlib inline  \n",
    "import matplotlib.pyplot as plt"
   ]
  },
  {
   "cell_type": "markdown",
   "metadata": {},
   "source": [
    "## Gera dados aleatoriamente"
   ]
  },
  {
   "cell_type": "code",
   "execution_count": 31,
   "metadata": {},
   "outputs": [],
   "source": [
    "# gera uma conjunto de dados (aprox. reta) aleatoriamente\n",
    "n = 150  # number of points\n",
    "x_values = np.sort(100 *np.random.rand(n))\n",
    "y_values = 5 * x_values + 100 * (np.random.rand(n) - 0.5)"
   ]
  },
  {
   "cell_type": "code",
   "execution_count": 32,
   "metadata": {},
   "outputs": [
    {
     "data": {
      "image/png": "[encoded data removed]",
      "text/plain": [
       "<matplotlib.figure.Figure at 0x194dda02908>"
      ]
     },
     "metadata": {},
     "output_type": "display_data"
    }
   ],
   "source": [
    "# scatter\n",
    "\n",
    "plt.plot(x_values, y_values, 'ro', label=\"Pontos\")\n",
    "plt.show()"
   ]
  },
  {
   "cell_type": "markdown",
   "metadata": {},
   "source": [
    "## Criação de variáveis para gradient descent no Tensorflow"
   ]
  },
  {
   "cell_type": "code",
   "execution_count": 33,
   "metadata": {},
   "outputs": [],
   "source": [
    "# parametros da regressão\n",
    "w = tf.Variable(0, name='weights', dtype='float')\n",
    "b = tf.Variable(0, name='bias', dtype='float')\n",
    "\n",
    "# placeholders\n",
    "X = tf.placeholder(\"float\")\n",
    "Y = tf.placeholder(\"float\")\n",
    "\n",
    "# equação -- Y_Pred = w * X + b\n",
    "Y_pred = tf.add(tf.multiply(w, X), b)"
   ]
  },
  {
   "cell_type": "code",
   "execution_count": 68,
   "metadata": {},
   "outputs": [],
   "source": [
    "# Mean squared error\n",
    "cost = tf.reduce_sum(tf.pow(Y_pred - Y, 2))/(2 * n)"
   ]
  },
  {
   "cell_type": "code",
   "execution_count": 69,
   "metadata": {},
   "outputs": [],
   "source": [
    "learning_rate = 0.01\n",
    "\n",
    "# Gradient descent\n",
    "#  Note, minimize() knows to modify W and b because Variable objects are trainable=True by default\n",
    "optimizer = tf.train.GradientDescentOptimizer(learning_rate).minimize(cost)"
   ]
  },
  {
   "cell_type": "code",
   "execution_count": 70,
   "metadata": {},
   "outputs": [],
   "source": [
    "# Initializa as variáveis (i.e. coloca os valores default) --- obrigatório\n",
    "init = tf.global_variables_initializer()"
   ]
  },
  {
   "cell_type": "code",
   "execution_count": 71,
   "metadata": {},
   "outputs": [
    {
     "data": {
      "text/plain": [
       "<tf.Tensor 'loss_4:0' shape=() dtype=string>"
      ]
     },
     "execution_count": 71,
     "metadata": {},
     "output_type": "execute_result"
    }
   ],
   "source": [
    "# para vermos o que acontece, vamos usar summary\n",
    "#\n",
    "# cost tensor\n",
    "tf.summary.scalar(\"loss\", cost)  # aqui em summary a variavel de custo"
   ]
  },
  {
   "cell_type": "code",
   "execution_count": 72,
   "metadata": {},
   "outputs": [],
   "source": [
    "# accuracy tensor\n",
    "#acc = tf.equal(tf.argmax(Y_pred, 1), tf.argmax(Y, 1))\n",
    "#acc = tf.reduce_mean(tf.cast(acc, tf.float32))\n",
    "# criar o summary\n",
    "#tf.summary.scalar(\"accuracy\", acc)"
   ]
  },
  {
   "cell_type": "code",
   "execution_count": 73,
   "metadata": {},
   "outputs": [],
   "source": [
    "# Coloca todos os summaries em um único local\n",
    "merged_summary_op = tf.summary.merge_all()"
   ]
  },
  {
   "cell_type": "code",
   "execution_count": 74,
   "metadata": {},
   "outputs": [],
   "source": [
    "# Inicia a sessão de treino\n",
    "sess = tf.Session()\n",
    "sess.run(init)"
   ]
  },
  {
   "cell_type": "code",
   "execution_count": 75,
   "metadata": {},
   "outputs": [],
   "source": [
    "# op to write logs to Tensorboard\n",
    "logs_path = './logs'\n",
    "summary_writer = tf.summary.FileWriter(logs_path, graph=tf.get_default_graph())"
   ]
  },
  {
   "cell_type": "markdown",
   "metadata": {},
   "source": [
    "## Treinamento"
   ]
  },
  {
   "cell_type": "code",
   "execution_count": 84,
   "metadata": {},
   "outputs": [],
   "source": [
    "training_epochs =  10\n",
    "for epoch in range(training_epochs):\n",
    "    for (x, y) in zip(x_values, y_values):\n",
    "        _, c = sess.run([optimizer, cost], feed_dict={X: x, Y: y})\n",
    "        # summary = sess.run(merged_summary_op, feed_dict={cost: c})\n",
    "        # Write logs at every iteration\n",
    "        # summary_writer.add_summary(summary, epoch)"
   ]
  },
  {
   "cell_type": "code",
   "execution_count": null,
   "metadata": {},
   "outputs": [],
   "source": [
    "print(\"Optimização terminou -- %d passos\" % training_epochs)\n",
    "training_cost = sess.run(cost, feed_dict={X: x_values, Y: y_values})\n",
    "print(\"Custo   = %7.3f\" % training_cost)\n",
    "print(\"Weights = %7.3f\" % sess.run(w))\n",
    "print(\"Bias    = %7.3f\" % sess.run(b))"
   ]
  },
  {
   "cell_type": "code",
   "execution_count": null,
   "metadata": {},
   "outputs": [],
   "source": [
    "# Gráfico do ajuste\n",
    "plt.plot(x_values, y_values, 'ro', label='valores originais')  # dispersão\n",
    "plt.plot(x_values, sess.run(w) * x_values + sess.run(b), label='reta de regressao')\n",
    "\n",
    "plt.legend(loc=2)  # loc=2 é \"upper left\"\n",
    "plt.plot()"
   ]
  },
  {
   "cell_type": "code",
   "execution_count": null,
   "metadata": {},
   "outputs": [],
   "source": [
    "print(\"Run the command line:\\n\" \\\n",
    "          \"--> tensorboard --logdir=%s \" \\\n",
    "          \"\\nThen open http://0.0.0.0:6006/ into your web browser\" % logs_path)"
   ]
  }
 ],
 "metadata": {
  "kernelspec": {
   "display_name": "Python 3 (ipykernel)",
   "language": "python",
   "name": "python3"
  },
  "language_info": {
   "codemirror_mode": {
    "name": "ipython",
    "version": 3
   },
   "file_extension": ".py",
   "mimetype": "text/x-python",
   "name": "python",
   "nbconvert_exporter": "python",
   "pygments_lexer": "ipython3",
   "version": "3.10.0"
  }
 },
 "nbformat": 4,
 "nbformat_minor": 4
}
