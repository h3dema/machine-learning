{
 "cells": [
  {
   "cell_type": "code",
   "execution_count": 1,
   "metadata": {},
   "outputs": [],
   "source": [
    "import pandas as pd\n",
    "from sklearn import tree\n",
    "from sklearn.preprocessing import LabelEncoder\n",
    "from IPython.display import IFrame\n",
    "import graphviz"
   ]
  },
  {
   "cell_type": "markdown",
   "metadata": {},
   "source": [
    "# Cria o dataset"
   ]
  },
  {
   "cell_type": "code",
   "execution_count": 2,
   "metadata": {},
   "outputs": [],
   "source": [
    "dataset=[['ensolarado', 'quente', 'alta', 'falso', 'não'],\n",
    "         ['ensolarado', 'quente', 'alta', 'verdadeiro', 'não'],\n",
    "         ['nublado', 'quente', 'alta', 'falso', 'sim'],\n",
    "         ['chuvoso', 'ameno', 'alta', 'falso', 'sim'],\n",
    "         ['chuvoso', 'fresco', 'normal', 'falso', 'sim'],\n",
    "         ['chuvoso', 'fresco', 'normal', 'verdadeiro', 'não'],\n",
    "         ['nublado', 'fresco', 'normal', 'verdadeiro', 'sim'],\n",
    "         ['ensolarado', 'ameno', 'alta', 'falso', 'não'],\n",
    "         ['ensolarado', 'fresco', 'normal', 'falso', 'sim'],\n",
    "         ['chuvoso', 'ameno', 'normal', 'falso', 'sim'],\n",
    "         ['ensolarado', 'ameno', 'normal', 'verdadeiro', 'sim'],\n",
    "         ['nublado', 'ameno', 'alta', 'verdadeiro', 'sim'],\n",
    "         ['nublado', 'quente', 'normal', 'falso', 'sim'],\n",
    "         ['chuvoso', 'ameno', 'alta', 'verdadeiro', 'não']\n",
    "        ]"
   ]
  },
  {
   "cell_type": "markdown",
   "metadata": {},
   "source": [
    "# Usamos Pandas para tratar os dados"
   ]
  },
  {
   "cell_type": "code",
   "execution_count": 3,
   "metadata": {},
   "outputs": [],
   "source": [
    "ds = pd.DataFrame(dataset, columns=['outlook', 'temp', 'umidade', 'vento', 'jogar?'])"
   ]
  },
  {
   "cell_type": "code",
   "execution_count": 4,
   "metadata": {},
   "outputs": [],
   "source": [
    "x = ds[['outlook', 'temp', 'umidade', 'vento']]\n",
    "y = ds['jogar?']"
   ]
  },
  {
   "cell_type": "markdown",
   "metadata": {},
   "source": [
    "## Encode dos dados: transforma os labels do dataset em números"
   ]
  },
  {
   "cell_type": "code",
   "execution_count": 5,
   "metadata": {},
   "outputs": [],
   "source": [
    "le = LabelEncoder()\n",
    "for c in x.columns:\n",
    "    x.loc[:,c] = le.fit_transform(x.loc[:,c])"
   ]
  },
  {
   "cell_type": "code",
   "execution_count": 6,
   "metadata": {},
   "outputs": [],
   "source": [
    "y = le.fit_transform(y)"
   ]
  },
  {
   "cell_type": "markdown",
   "metadata": {},
   "source": [
    "# Treinar a árvore"
   ]
  },
  {
   "cell_type": "code",
   "execution_count": 7,
   "metadata": {},
   "outputs": [],
   "source": [
    "clf = tree.DecisionTreeClassifier() # default = gini\n",
    "clf = clf.fit(x, y)"
   ]
  },
  {
   "cell_type": "code",
   "execution_count": 8,
   "metadata": {},
   "outputs": [
    {
     "data": {
      "text/plain": [
       "'arvore-jogar.pdf'"
      ]
     },
     "execution_count": 8,
     "metadata": {},
     "output_type": "execute_result"
    }
   ],
   "source": [
    "dot_data = tree.export_graphviz(clf, out_file=None) \n",
    "graph = graphviz.Source(dot_data)\n",
    "\n",
    "filename = \"arvore-jogar\"\n",
    "graph.render(filename=filename)\n",
    "# note que ao nome do arquivo é acrescentado PDF\n",
    "# cria ainda um arquivo \"arvore-jogar\" que é o render do graphviz"
   ]
  },
  {
   "cell_type": "markdown",
   "metadata": {},
   "source": [
    "## Mostrar o resultado"
   ]
  },
  {
   "cell_type": "code",
   "execution_count": 9,
   "metadata": {},
   "outputs": [
    {
     "data": {
      "text/html": [
       "\n",
       "        <iframe\n",
       "            width=\"600\"\n",
       "            height=\"300\"\n",
       "            src=\"arvore-jogar.pdf\"\n",
       "            frameborder=\"0\"\n",
       "            allowfullscreen\n",
       "            \n",
       "        ></iframe>\n",
       "        "
      ],
      "text/plain": [
       "<IPython.lib.display.IFrame at 0x22a1dd21a80>"
      ]
     },
     "execution_count": 9,
     "metadata": {},
     "output_type": "execute_result"
    }
   ],
   "source": [
    "IFrame(\"%s.pdf\" % filename, width=600, height=300)"
   ]
  }
 ],
 "metadata": {
  "kernelspec": {
   "display_name": "Python 3 (ipykernel)",
   "language": "python",
   "name": "python3"
  },
  "language_info": {
   "codemirror_mode": {
    "name": "ipython",
    "version": 3
   },
   "file_extension": ".py",
   "mimetype": "text/x-python",
   "name": "python",
   "nbconvert_exporter": "python",
   "pygments_lexer": "ipython3",
   "version": "3.10.0"
  }
 },
 "nbformat": 4,
 "nbformat_minor": 4
}
