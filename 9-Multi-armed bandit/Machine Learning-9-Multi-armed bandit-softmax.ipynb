{
 "cells": [
  {
   "cell_type": "markdown",
   "metadata": {},
   "source": [
    "# Multi-armed Bandit\n",
    "\n",
    "O problema do bandido multi-armado (ou MAB) pode ser visto como um conjunto de distribuições reais associada às recompensas entregues por um dos $K \\in \\mathbb{N}^+$ braços: $B = \\{ R_{1}, \\dots, R_{K}\\}$, onde $\\{\\mu_{1}, \\dots, \\mu_{K}\\}$ são os valores médios associados a essas distribuições de recompensas.  \n",
    "O jogador seleciona iterativamente uma alavanca por rodada e observa a recompensa associada.  \n",
    "O objetivo é maximizar a soma das recompensas coletadas.\n",
    "\n",
    "\n",
    "Este notebook utiliza a política _Softmax com annealing_ para selecionar o melhor braço.\n",
    "Seleciona o braço de acordo com a probabilidade:\n",
    "\n",
    "$Prob_j(t) = \\frac{e^\\frac{\\widehat{\\mu_j}(t)}{\\tau(t)}}{\\sum \\limits_j e^\\frac{\\widehat{\\mu_j}(t)}{\\tau(t)}}\n",
    "$ e $\\tau(t) = \\frac{\\tau_0}{t+1}$\n",
    "\n",
    "## Autor: h3dema"
   ]
  },
  {
   "cell_type": "code",
   "execution_count": 1,
   "metadata": {},
   "outputs": [],
   "source": [
    "%matplotlib inline\n",
    "\n",
    "# imports\n",
    "from random import randint\n",
    "import numpy as np\n",
    "import matplotlib.pyplot as plt\n",
    "\n",
    "from util import return_normal\n",
    "from policies import softmax_annealing"
   ]
  },
  {
   "cell_type": "code",
   "execution_count": 2,
   "metadata": {},
   "outputs": [],
   "source": [
    "# parametros de execução\n",
    "K = 3  # braços\n",
    "T = 1000  # numero de iterações\n",
    "\n",
    "n = 3  # numero de iterações para montar a estimativa inicial das médias"
   ]
  },
  {
   "cell_type": "code",
   "execution_count": 7,
   "metadata": {},
   "outputs": [],
   "source": [
    "# medias e variancias dos braços\n",
    "arm_means = [2.67, 1.64, 1.99]\n",
    "arm_variances = [0.5, 0.1, 0.5]\n",
    "\n",
    "# baseado na distribuição normal, obtem as recompensas em cada braço\n",
    "rewards = [return_normal(T + n, arm_means[i], variance=arm_variances[i]) for i in range(K)]\n",
    "\n",
    "# usa os primeiros valores para calcular a estimativa inicial das médias para cada braço\n",
    "means_k = []\n",
    "for i in range(K):\n",
    "    # média dos n primeiros valores para cada braço\n",
    "    means_k.append(np.mean(rewards[i][:n]))\n",
    "    # mantem somente as T recompensas seguintes\n",
    "    rewards[i] = rewards[i][n:]"
   ]
  },
  {
   "cell_type": "code",
   "execution_count": 8,
   "metadata": {},
   "outputs": [
    {
     "name": "stdout",
     "output_type": "stream",
     "text": [
      "média do braço 0: 2.67778\n"
     ]
    }
   ],
   "source": [
    "# mostra média real do melhor braço: que sabemos ser o 0\n",
    "best_arm = rewards.index(max(rewards))\n",
    "real_avg = np.mean(rewards[best_arm])\n",
    "print \"média do braço %d: %7.5f\" % (best_arm, real_avg)"
   ]
  },
  {
   "cell_type": "code",
   "execution_count": 9,
   "metadata": {},
   "outputs": [],
   "source": [
    "# simple MAB algorithm\n",
    "def run(K, T, rewards, method, verbose=False, **kwargs):\n",
    "    \"\"\"\n",
    "    return:\n",
    "        selected_arm:\n",
    "            lista com os braços selecionados a cada instante\n",
    "        r:\n",
    "            recompensa obtida para cada seleção\n",
    "    \"\"\"\n",
    "    num_selected_arm = [1 for i in range(K)]\n",
    "    r = [-1 for i in range(T)]\n",
    "    for i in range(T):\n",
    "        arm = method.select_arm(means_k)\n",
    "\n",
    "        r_t = rewards[arm][i]\n",
    "        r[i] = r_t\n",
    "\n",
    "        # update mean\n",
    "        means_k[arm] = num_selected_arm[arm] * means_k[arm] + r_t\n",
    "        num_selected_arm[arm] += 1\n",
    "        means_k[arm] /= num_selected_arm[arm]\n",
    "        if verbose:\n",
    "            print 'Round', i, 'melhor braço:', arm, 'Recompensa:', r_t\n",
    "\n",
    "    return method.selected_arm, r"
   ]
  },
  {
   "cell_type": "code",
   "execution_count": 12,
   "metadata": {},
   "outputs": [
    {
     "data": {
      "image/png": "[encoded data removed]",
      "text/plain": [
       "<matplotlib.figure.Figure at 0x7fe5d3b68090>"
      ]
     },
     "metadata": {},
     "output_type": "display_data"
    }
   ],
   "source": [
    "fig = 1\n",
    "tau = 10.0\n",
    "selected_arm, r = run(K, T, \n",
    "                      method=softmax_annealing(K, tau=tau),\n",
    "                      rewards=rewards,\n",
    "                      means_k=means_k)\n",
    "r_mean = [np.mean(r[:i + 1]) for i in range(T)]\n",
    "plt.figure(fig)\n",
    "X = [i for i in range(T)]\n",
    "plt.plot(X, r_mean, X, selected_arm, 'ro')\n",
    "plt.plot([0, T], [real_avg, real_avg])\n",
    "plt.ylabel('Média da recompensa')\n",
    "plt.xlabel('Tempo (s)')\n",
    "y_max = 0.9 * max(r_mean)\n",
    "plt.title('Softmax com annealing | tau = %5.2f' % (tau))\n",
    "fig += 1\n"
   ]
  }
 ],
 "metadata": {
  "kernelspec": {
   "display_name": "Python 3 (ipykernel)",
   "language": "python",
   "name": "python3"
  },
  "language_info": {
   "codemirror_mode": {
    "name": "ipython",
    "version": 3
   },
   "file_extension": ".py",
   "mimetype": "text/x-python",
   "name": "python",
   "nbconvert_exporter": "python",
   "pygments_lexer": "ipython3",
   "version": "3.10.0"
  }
 },
 "nbformat": 4,
 "nbformat_minor": 2
}
